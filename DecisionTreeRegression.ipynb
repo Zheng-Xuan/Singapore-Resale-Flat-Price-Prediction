{
 "cells": [
  {
   "cell_type": "markdown",
   "metadata": {},
   "source": [
    "# Decision Tree Regressor"
   ]
  },
  {
   "cell_type": "code",
   "execution_count": 41,
   "metadata": {},
   "outputs": [],
   "source": [
    "import pandas as pd\n",
    "import numpy as np\n",
    "from sklearn.preprocessing import LabelEncoder\n",
    "from sklearn.model_selection import train_test_split\n",
    "from sklearn.metrics import mean_squared_error\n",
    "from math import sqrt "
   ]
  },
  {
   "cell_type": "markdown",
   "metadata": {},
   "source": [
    "## Repeat the data import process"
   ]
  },
  {
   "cell_type": "code",
   "execution_count": 42,
   "metadata": {},
   "outputs": [
    {
     "data": {
      "text/html": [
       "<div>\n",
       "<style scoped>\n",
       "    .dataframe tbody tr th:only-of-type {\n",
       "        vertical-align: middle;\n",
       "    }\n",
       "\n",
       "    .dataframe tbody tr th {\n",
       "        vertical-align: top;\n",
       "    }\n",
       "\n",
       "    .dataframe thead th {\n",
       "        text-align: right;\n",
       "    }\n",
       "</style>\n",
       "<table border=\"1\" class=\"dataframe\">\n",
       "  <thead>\n",
       "    <tr style=\"text-align: right;\">\n",
       "      <th></th>\n",
       "      <th>month</th>\n",
       "      <th>town</th>\n",
       "      <th>flat_type</th>\n",
       "      <th>block</th>\n",
       "      <th>street_name</th>\n",
       "      <th>storey_range</th>\n",
       "      <th>floor_area_sqm</th>\n",
       "      <th>flat_model</th>\n",
       "      <th>lease_commence_date</th>\n",
       "      <th>resale_price</th>\n",
       "    </tr>\n",
       "  </thead>\n",
       "  <tbody>\n",
       "    <tr>\n",
       "      <th>0</th>\n",
       "      <td>1990-01</td>\n",
       "      <td>ANG MO KIO</td>\n",
       "      <td>1 ROOM</td>\n",
       "      <td>309</td>\n",
       "      <td>ANG MO KIO AVE 1</td>\n",
       "      <td>10 TO 12</td>\n",
       "      <td>31.0</td>\n",
       "      <td>IMPROVED</td>\n",
       "      <td>1977</td>\n",
       "      <td>9000</td>\n",
       "    </tr>\n",
       "    <tr>\n",
       "      <th>1</th>\n",
       "      <td>1990-01</td>\n",
       "      <td>ANG MO KIO</td>\n",
       "      <td>1 ROOM</td>\n",
       "      <td>309</td>\n",
       "      <td>ANG MO KIO AVE 1</td>\n",
       "      <td>04 TO 06</td>\n",
       "      <td>31.0</td>\n",
       "      <td>IMPROVED</td>\n",
       "      <td>1977</td>\n",
       "      <td>6000</td>\n",
       "    </tr>\n",
       "    <tr>\n",
       "      <th>2</th>\n",
       "      <td>1990-01</td>\n",
       "      <td>ANG MO KIO</td>\n",
       "      <td>1 ROOM</td>\n",
       "      <td>309</td>\n",
       "      <td>ANG MO KIO AVE 1</td>\n",
       "      <td>10 TO 12</td>\n",
       "      <td>31.0</td>\n",
       "      <td>IMPROVED</td>\n",
       "      <td>1977</td>\n",
       "      <td>8000</td>\n",
       "    </tr>\n",
       "    <tr>\n",
       "      <th>3</th>\n",
       "      <td>1990-01</td>\n",
       "      <td>ANG MO KIO</td>\n",
       "      <td>1 ROOM</td>\n",
       "      <td>309</td>\n",
       "      <td>ANG MO KIO AVE 1</td>\n",
       "      <td>07 TO 09</td>\n",
       "      <td>31.0</td>\n",
       "      <td>IMPROVED</td>\n",
       "      <td>1977</td>\n",
       "      <td>6000</td>\n",
       "    </tr>\n",
       "    <tr>\n",
       "      <th>4</th>\n",
       "      <td>1990-01</td>\n",
       "      <td>ANG MO KIO</td>\n",
       "      <td>3 ROOM</td>\n",
       "      <td>216</td>\n",
       "      <td>ANG MO KIO AVE 1</td>\n",
       "      <td>04 TO 06</td>\n",
       "      <td>73.0</td>\n",
       "      <td>NEW GENERATION</td>\n",
       "      <td>1976</td>\n",
       "      <td>47200</td>\n",
       "    </tr>\n",
       "  </tbody>\n",
       "</table>\n",
       "</div>"
      ],
      "text/plain": [
       "     month        town flat_type block       street_name storey_range  \\\n",
       "0  1990-01  ANG MO KIO    1 ROOM   309  ANG MO KIO AVE 1     10 TO 12   \n",
       "1  1990-01  ANG MO KIO    1 ROOM   309  ANG MO KIO AVE 1     04 TO 06   \n",
       "2  1990-01  ANG MO KIO    1 ROOM   309  ANG MO KIO AVE 1     10 TO 12   \n",
       "3  1990-01  ANG MO KIO    1 ROOM   309  ANG MO KIO AVE 1     07 TO 09   \n",
       "4  1990-01  ANG MO KIO    3 ROOM   216  ANG MO KIO AVE 1     04 TO 06   \n",
       "\n",
       "   floor_area_sqm      flat_model  lease_commence_date  resale_price  \n",
       "0            31.0        IMPROVED                 1977          9000  \n",
       "1            31.0        IMPROVED                 1977          6000  \n",
       "2            31.0        IMPROVED                 1977          8000  \n",
       "3            31.0        IMPROVED                 1977          6000  \n",
       "4            73.0  NEW GENERATION                 1976         47200  "
      ]
     },
     "execution_count": 42,
     "metadata": {},
     "output_type": "execute_result"
    }
   ],
   "source": [
    "data = pd.read_csv('flat-prices.csv')\n",
    "data.head()"
   ]
  },
  {
   "cell_type": "code",
   "execution_count": 43,
   "metadata": {},
   "outputs": [],
   "source": [
    "label = LabelEncoder()\n",
    "\n",
    "data['town'] = label.fit_transform(data['town'])\n",
    "data['flat_type'] = label.fit_transform(data['flat_type'])\n",
    "data['storey_range'] = label.fit_transform(data['storey_range'])\n",
    "data['flat_model'] = label.fit_transform(data['flat_model'])\n",
    "\n",
    "selected_features = data[['town', 'flat_type', 'storey_range', 'floor_area_sqm', 'flat_model', 'lease_commence_date']]\n",
    "\n",
    "X = selected_features.values \n",
    "\n",
    "y = data['resale_price']"
   ]
  },
  {
   "cell_type": "markdown",
   "metadata": {},
   "source": [
    "## Summary of Encoding\n",
    "\n",
    "Town:\n",
    "0 - ANG MO KIO\n",
    "1 - BEDOK\n",
    "2 - BISHAN\n",
    "3 - BUKIT BATOK\n",
    "4 - BUKIT MERAH\n",
    "5 - BUKIT PANJANG\n",
    "6 - BUKIT TIMAH\n",
    "7 - CENTRAL AREA\n",
    "8 - CHOA CHU KANG\n",
    "9 - CLEMENTI\n",
    "10 - GEYLANG\n",
    "11 - HOUGANG\n",
    "12 - JURONG EAST\n",
    "13 - JURONG WEST\n",
    "14 - KALLANG/WHAMPOA\n",
    "15 - LIM CHU KANG\n",
    "16 - MARINE PARADE\n",
    "17 - PASIR RIS\n",
    "18 - QUEENSTOWN\n",
    "19 - SEMBAWANG\n",
    "20 - SENGKANG\n",
    "21 - SERANGOON\n",
    "22 - TAMPINES\n",
    "23 - TOA PAYOH\n",
    "24 - WOODLANDS\n",
    "25 - YISHUN\n",
    "\n",
    "Flat Type:\n",
    "0 - 1 ROOM\n",
    "1 - 2 ROOM\n",
    "2 - 3 ROOM\n",
    "3 - 4 ROOM\n",
    "4 - 5 ROOM\n",
    "5 - EXECUTIVE \n",
    "6 - MULTI GENERATION\n",
    "\n",
    "Storey Range:\n",
    "0 - 01 TO 03 \n",
    "1 - 04 TO 06 \n",
    "2 - 07 TO 09\n",
    "3 - 10 TO 12\n",
    "4 - 13 TO 15\n",
    "5 - 16 TO 18\n",
    "6 - 19 TO 21\n",
    "7 - 22 TO 24\n",
    "8 - 25 TO 27\n",
    "\n",
    "Flat Model:\n",
    "0 - 2-ROOM\n",
    "1 - APARTMENT\n",
    "2 - IMPROVED\n",
    "3 - IMPROVED-MAISONETTE\n",
    "4 - MAISONETTE\n",
    "5 - MODEL A\n",
    "6 - MODEL A-MAISONETTE\n",
    "7 - MULTI GENERATION\n",
    "8 - NEW GENERATION\n",
    "9 - PREMIUM APARTMENT\n",
    "10 - SIMPLIFIED\n",
    "11 - STANDARD\n",
    "12 - TERRACE"
   ]
  },
  {
   "cell_type": "markdown",
   "metadata": {},
   "source": [
    "## Training the model\n",
    "\n",
    "The Decision Tree model has many parameters that affects the model, such as max_depth, min_samples_split, min_samples_leaf, max_features etc.\n",
    "\n",
    "In this model, the max_depth and min_samples_split parameter are optimised.\n",
    "\n",
    "max_depth = max depth of tree\n",
    "min_samples_split = minimum number of samples required to split a node"
   ]
  },
  {
   "cell_type": "code",
   "execution_count": 44,
   "metadata": {},
   "outputs": [],
   "source": [
    "from sklearn.tree import DecisionTreeRegressor\n",
    "from sklearn.model_selection import GridSearchCV"
   ]
  },
  {
   "cell_type": "code",
   "execution_count": 45,
   "metadata": {},
   "outputs": [
    {
     "data": {
      "text/plain": [
       "{'max_depth': 20, 'min_samples_split': 500}"
      ]
     },
     "execution_count": 45,
     "metadata": {},
     "output_type": "execute_result"
    }
   ],
   "source": [
    "X_train, X_test, y_train, y_test = train_test_split(X, y, test_size= 0.25, random_state= 42)\n",
    "\n",
    "grid_values = {'max_depth':[10, 20, 30, 40, 50], 'min_samples_split': [100, 500, 1000, 5000, 10000]}\n",
    "reg = DecisionTreeRegressor()\n",
    "grid_reg = GridSearchCV(reg, param_grid= grid_values, scoring= 'neg_mean_squared_error')\n",
    "grid_reg.fit(X_train, y_train)\n",
    "\n",
    "best_params = grid_reg.best_params_\n",
    "\n",
    "best_params"
   ]
  },
  {
   "cell_type": "markdown",
   "metadata": {},
   "source": [
    "## Evaluate the model using train data"
   ]
  },
  {
   "cell_type": "code",
   "execution_count": 46,
   "metadata": {},
   "outputs": [
    {
     "data": {
      "text/plain": [
       "69034.9971775791"
      ]
     },
     "execution_count": 46,
     "metadata": {},
     "output_type": "execute_result"
    }
   ],
   "source": [
    "best_model = grid_reg.best_estimator_\n",
    "y_pred_train = best_model.predict(X_train)\n",
    "RMSE_train = sqrt(mean_squared_error(y_pred_train, y_train))\n",
    "\n",
    "RMSE_train"
   ]
  },
  {
   "cell_type": "markdown",
   "metadata": {},
   "source": [
    "## Evaluate the model using test data"
   ]
  },
  {
   "cell_type": "code",
   "execution_count": 47,
   "metadata": {},
   "outputs": [
    {
     "data": {
      "text/plain": [
       "69953.17312318627"
      ]
     },
     "execution_count": 47,
     "metadata": {},
     "output_type": "execute_result"
    }
   ],
   "source": [
    "y_pred_test = best_model.predict(X_test)\n",
    "RMSE_test = sqrt(mean_squared_error(y_pred_test, y_test))\n",
    "\n",
    "RMSE_test"
   ]
  },
  {
   "cell_type": "markdown",
   "metadata": {},
   "source": [
    "## Prediction Example \n",
    "\n",
    "A 5-ROOM flat in BEDOK, FLOOR 04 TO 06, IMPROVED, FLOOR AREA = 121, LEASE COMMENCED in 1980\n",
    "\n",
    "\n",
    "The feature matrix parameters are:\n",
    "1 - Bias\n",
    "1 - BEDOK\n",
    "4 - 5-ROOM\n",
    "1 - 04 TO 06\n",
    "121 - FLOOR AREA\n",
    "2 - IMPROVED\n",
    "1980 - LEASE COMMENCEMENT DATE\n",
    "\n",
    "\n",
    "Actual Resale Price: 145,000"
   ]
  },
  {
   "cell_type": "code",
   "execution_count": 48,
   "metadata": {},
   "outputs": [
    {
     "data": {
      "text/plain": [
       "300002.457002457"
      ]
     },
     "execution_count": 48,
     "metadata": {},
     "output_type": "execute_result"
    }
   ],
   "source": [
    "X_example = np.array([1, 4, 1, 121, 2, 1980])\n",
    "y_example = best_model.predict(X_example.reshape(1, -1))\n",
    "\n",
    "y_example[0]"
   ]
  },
  {
   "cell_type": "markdown",
   "metadata": {},
   "source": [
    "## Conclusion\n",
    "\n",
    "The Decision Tree Regressor with optimised parameters performs better than the Simple Linear Regression model as it has a lower RMSE in both train and test data."
   ]
  }
 ],
 "metadata": {
  "interpreter": {
   "hash": "508c516abeb45c93ea03af72e1f5af7f9e5ae6c6102d345d49dc5c574a159f61"
  },
  "kernelspec": {
   "display_name": "Python 3.8.5 64-bit ('base': conda)",
   "language": "python",
   "name": "python3"
  },
  "language_info": {
   "codemirror_mode": {
    "name": "ipython",
    "version": 3
   },
   "file_extension": ".py",
   "mimetype": "text/x-python",
   "name": "python",
   "nbconvert_exporter": "python",
   "pygments_lexer": "ipython3",
   "version": "3.8.5"
  },
  "orig_nbformat": 4
 },
 "nbformat": 4,
 "nbformat_minor": 2
}
