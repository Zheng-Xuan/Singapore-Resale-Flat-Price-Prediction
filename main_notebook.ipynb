{
 "cells": [
  {
   "cell_type": "markdown",
   "metadata": {},
   "source": [
    "# Singapore Resale Price Prediction\n"
   ]
  },
  {
   "cell_type": "code",
   "execution_count": 98,
   "metadata": {},
   "outputs": [],
   "source": [
    "import pandas as pd\n",
    "import numpy as np\n",
    "from sklearn.preprocessing import LabelEncoder\n",
    "from sklearn.model_selection import train_test_split \n",
    "from sklearn.metrics import mean_squared_error\n"
   ]
  },
  {
   "cell_type": "markdown",
   "metadata": {},
   "source": [
    "## Read the following datasets from Kaggle "
   ]
  },
  {
   "cell_type": "code",
   "execution_count": 109,
   "metadata": {},
   "outputs": [
    {
     "data": {
      "text/plain": [
       "NEW GENERATION         78898\n",
       "IMPROVED               73589\n",
       "MODEL A                70381\n",
       "SIMPLIFIED             23258\n",
       "STANDARD               17375\n",
       "MAISONETTE             12215\n",
       "APARTMENT               9901\n",
       "MODEL A-MAISONETTE       982\n",
       "MULTI GENERATION         279\n",
       "TERRACE                  247\n",
       "IMPROVED-MAISONETTE       44\n",
       "2-ROOM                    21\n",
       "PREMIUM APARTMENT          6\n",
       "Name: flat_model, dtype: int64"
      ]
     },
     "execution_count": 109,
     "metadata": {},
     "output_type": "execute_result"
    }
   ],
   "source": [
    "data = pd.read_csv('flat-prices.csv')\n",
    "data.head()"
   ]
  },
  {
   "cell_type": "markdown",
   "metadata": {},
   "source": [
    "## Encode categorical data and select columns to form the feature matrix\n",
    "\n",
    "Choose:\n",
    "\n",
    "1. town\n",
    "2. flat_type\n",
    "3. storey_range\n",
    "4. floor_area_sqm\n",
    "5. flat_model\n",
    "6. lease_commmence_date"
   ]
  },
  {
   "cell_type": "code",
   "execution_count": 110,
   "metadata": {},
   "outputs": [
    {
     "data": {
      "text/plain": [
       "8     78898\n",
       "2     73589\n",
       "5     70381\n",
       "10    23258\n",
       "11    17375\n",
       "4     12215\n",
       "1      9901\n",
       "6       982\n",
       "7       279\n",
       "12      247\n",
       "3        44\n",
       "0        21\n",
       "9         6\n",
       "Name: flat_model, dtype: int64"
      ]
     },
     "execution_count": 110,
     "metadata": {},
     "output_type": "execute_result"
    }
   ],
   "source": [
    "label = LabelEncoder()\n",
    "\n",
    "data['town'] = label.fit_transform(data['town'])\n",
    "data['flat_type'] = label.fit_transform(data['flat_type'])\n",
    "data['storey_range'] = label.fit_transform(data['storey_range'])\n",
    "data['flat_model'] = label.fit_transform(data['flat_model'])\n",
    "\n",
    "selected_features = data[['town', 'flat_type', 'storey_range', 'floor_area_sqm', 'flat_model', 'lease_commence_date']]\n",
    "\n",
    "X_nobias = selected_features.values \n",
    "x1 = np.ones((len(X_nobias), 1))\n",
    "X = np.hstack((x1, X_nobias))\n",
    "\n",
    "y = data['resale_price']\n"
   ]
  },
  {
   "cell_type": "markdown",
   "metadata": {},
   "source": [
    "## Summary of Encoding\n",
    "\n",
    "Town:\n",
    "0 - ANG MO KIO\n",
    "1 - BEDOK\n",
    "2 - BISHAN\n",
    "3 - BUKIT BATOK\n",
    "4 - BUKIT MERAH\n",
    "5 - BUKIT PANJANG\n",
    "6 - BUKIT TIMAH\n",
    "7 - CENTRAL AREA\n",
    "8 - CHOA CHU KANG\n",
    "9 - CLEMENTI\n",
    "10 - GEYLANG\n",
    "11 - HOUGANG\n",
    "12 - JURONG EAST\n",
    "13 - JURONG WEST\n",
    "14 - KALLANG/WHAMPOA\n",
    "15 - LIM CHU KANG\n",
    "16 - MARINE PARADE\n",
    "17 - PASIR RIS\n",
    "18 - QUEENSTOWN\n",
    "19 - SEMBAWANG\n",
    "20 - SENGKANG\n",
    "21 - SERANGOON\n",
    "22 - TAMPINES\n",
    "23 - TOA PAYOH\n",
    "24 - WOODLANDS\n",
    "25 - YISHUN\n",
    "\n",
    "Flat Type:\n",
    "0 - 1 ROOM\n",
    "1 - 2 ROOM\n",
    "2 - 3 ROOM\n",
    "3 - 4 ROOM\n",
    "4 - 5 ROOM\n",
    "5 - EXECUTIVE \n",
    "6 - MULTI GENERATION\n",
    "\n",
    "Storey Range:\n",
    "0 - 01 TO 03 \n",
    "1 - 04 TO 06 \n",
    "2 - 07 TO 09\n",
    "3 - 10 TO 12\n",
    "4 - 13 TO 15\n",
    "5 - 16 TO 18\n",
    "6 - 19 TO 21\n",
    "7 - 22 TO 24\n",
    "8 - 25 TO 27\n",
    "\n",
    "Flat Model:\n",
    "0 - 2-ROOM\n",
    "1 - APARTMENT\n",
    "2 - IMPROVED\n",
    "3 - IMPROVED-MAISONETTE\n",
    "4 - MAISONETTE\n",
    "5 - MODEL A\n",
    "6 - MODEL A-MAISONETTE\n",
    "7 - MULTI GENERATION\n",
    "8 - NEW GENERATION\n",
    "9 - PREMIUM APARTMENT\n",
    "10 - SIMPLIFIED\n",
    "11 - STANDARD\n",
    "12 - TERRACE"
   ]
  },
  {
   "cell_type": "markdown",
   "metadata": {},
   "source": [
    "## Training the Model\n",
    "\n",
    "Model:\n",
    "\n",
    "X_train is the feature matrix which is likely to be a tall matrix (more rows than columns) \n",
    "As such to obtain the weight matrix of:\n",
    "Xw = y \n",
    "\n",
    "w = inv(X_TX)*X_Ty, where X_T is the transpose of X"
   ]
  },
  {
   "cell_type": "code",
   "execution_count": 93,
   "metadata": {},
   "outputs": [],
   "source": [
    "X_train, X_test, y_train, y_test = train_test_split(X, y, test_size= 0.25, random_state= 42)\n",
    "\n",
    "X_transpose = X_train.T\n",
    "XTX = X_transpose.dot(X_train)\n",
    "invXTX = np.linalg.inv(XTX)\n",
    "\n",
    "w = (invXTX.dot(X_transpose)).dot(y_train)"
   ]
  }
 ],
 "metadata": {
  "interpreter": {
   "hash": "508c516abeb45c93ea03af72e1f5af7f9e5ae6c6102d345d49dc5c574a159f61"
  },
  "kernelspec": {
   "display_name": "Python 3.8.5 64-bit ('base': conda)",
   "language": "python",
   "name": "python3"
  },
  "language_info": {
   "codemirror_mode": {
    "name": "ipython",
    "version": 3
   },
   "file_extension": ".py",
   "mimetype": "text/x-python",
   "name": "python",
   "nbconvert_exporter": "python",
   "pygments_lexer": "ipython3",
   "version": "3.8.5"
  },
  "orig_nbformat": 4
 },
 "nbformat": 4,
 "nbformat_minor": 2
}
